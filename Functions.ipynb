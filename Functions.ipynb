{
 "cells": [
  {
   "cell_type": "code",
   "execution_count": 8,
   "id": "893124dc",
   "metadata": {},
   "outputs": [],
   "source": [
    "import numpy as np\n",
    "import matplotlib.pyplot as plt\n",
    "import qutip as qt\n",
    "import cmath\n",
    "import statsmodels.api as sm\n",
    "import scipy as sp"
   ]
  },
  {
   "cell_type": "code",
   "execution_count": null,
   "id": "3ebbb3dc",
   "metadata": {},
   "outputs": [],
   "source": [
    "a_1 = qt.tensor(qt.destroy(2), qt.qeye(2))\n",
    "a_2 = qt.tensor(qt.qeye(2), qt.destroy(2))\n",
    "b_1 = qt.destroy(2)\n",
    "N_1 = a_1.dag()*a_1\n",
    "N_2 = a_2.dag()*a_2\n",
    "psi = qt.fock(2,0)\n",
    "fi = qt.fock(2,1)"
   ]
  },
  {
   "cell_type": "code",
   "execution_count": 2,
   "id": "f0c32e34",
   "metadata": {},
   "outputs": [],
   "source": [
    "'''\n",
    "This function calculates the Leggett-Garg factor averaging over an enesemble of trajectories. \n",
    "This is the object to confront with the theoretical prediction. \n",
    "See notebooks LG.ipynb, LG_feed.ipynb\n",
    "'''\n",
    "def legg_ensemble(ensemble):\n",
    "    num_realizations, num_time_steps = ensemble.shape\n",
    "    max_tau = num_time_steps // 2 \n",
    "\n",
    "    differences = np.zeros(max_tau)\n",
    "\n",
    "    for tau in range(1, max_tau):\n",
    "        correlation_tau = np.mean(ensemble[:, 0] * ensemble[:, tau])\n",
    "        correlation_2tau = np.mean(ensemble[:, 0] * ensemble[:, 2 * tau])\n",
    "        differences[tau - 1] = 2*correlation_tau - correlation_2tau\n",
    "\n",
    "    return differences\n"
   ]
  },
  {
   "cell_type": "code",
   "execution_count": 10,
   "id": "91ec6fef",
   "metadata": {},
   "outputs": [],
   "source": [
    "'''\n",
    "This function calculates the Leggett-Garg factor as a time average. \n",
    "It is interesting to notive that without feedback it coincides with the ensemble one suggesting \n",
    "that the system possesses a certain level of ergodicity. When feedback is implemented, \n",
    "it starts to deviate from the ensemble one i. e. from the theoretical prediction.  \n",
    "'''\n",
    "def leggett_garg_factor(I_t):\n",
    "\n",
    "    N = len(I_t)\n",
    "    Legg = []\n",
    "    K_tau_list = []\n",
    "    K_2tau_list = []\n",
    "    for tau in range(1, N // 2 + 1):  \n",
    "        K_tau = np.mean(I_t[:-tau] * I_t[tau:])\n",
    "        K_2tau = np.mean(I_t[:-2*tau] * I_t[2*tau:])  \n",
    "        Legg.append(2*K_tau - K_2tau)\n",
    "        K_tau_list.append(K_tau)\n",
    "        K_2tau_list.append(K_2tau)\n",
    "\n",
    "    return np.array(Legg), np.array(K_tau_list), np.array(K_2tau_list)"
   ]
  },
  {
   "cell_type": "code",
   "execution_count": 11,
   "id": "87743802",
   "metadata": {},
   "outputs": [],
   "source": [
    "'''\n",
    "Does the same thing as leggett_garg_factor(I_t) but for a shorter time window\n",
    "'''\n",
    "def leggett_garg_factor_lessteps(I_t):\n",
    "\n",
    "    N = len(I_t)\n",
    "    Legg = []\n",
    "    K_tau_list = []\n",
    "    K_2tau_list = []\n",
    "    for tau in range(1, 800):  \n",
    "        K_tau = np.mean(I_t[:-tau] * I_t[tau:])\n",
    "        K_2tau = np.mean(I_t[:-2*tau] * I_t[2*tau:])\n",
    "        Legg.append(2*K_tau - K_2tau)\n",
    "        K_tau_list.append(K_tau)\n",
    "        K_2tau_list.append(K_2tau)\n",
    "\n",
    "    return np.array(Legg), np.array(K_tau_list), np.array(K_2tau_list)"
   ]
  },
  {
   "cell_type": "code",
   "execution_count": 12,
   "id": "1db8f460",
   "metadata": {},
   "outputs": [],
   "source": [
    "def reshape_measurement(N_traj, N_times, measurement):\n",
    "    ensemble = np.zeros((N_traj, N_times))\n",
    "    for i in range(N_traj):\n",
    "        for j in range(N_times):\n",
    "            ensemble[i,j] = np.real(measurement[i][j][0]) \n",
    "    return ensemble"
   ]
  },
  {
   "cell_type": "code",
   "execution_count": 13,
   "id": "92d31281",
   "metadata": {},
   "outputs": [],
   "source": [
    "def average(array):\n",
    "    new_array = []\n",
    "    for i in range(len(arrays)):\n",
    "        if len(arrays[i]) != 0:\n",
    "            new_array.append(arrays[i])\n",
    "    return np.mean(new_array, axis=0)"
   ]
  },
  {
   "cell_type": "code",
   "execution_count": 14,
   "id": "96dcc85f",
   "metadata": {},
   "outputs": [],
   "source": [
    "'''Plots the leggett garg factor comparing it with theoretical one'''\n",
    "\n",
    "def plot_legg(times, av):\n",
    "    \n",
    "    chi = 0.1\n",
    "    omega = 0.3\n",
    "    dt = 0.1\n",
    "    gamma = chi**2/2\n",
    "    Tilde_om = 2*np.sqrt(omega**2 - gamma**2/16)\n",
    "    K_t = 2*gamma*np.e**(-gamma/2*times)*(np.cos(Tilde_om*times) + gamma/(2*Tilde_om)*np.sin(Tilde_om*times))\n",
    "    K_2t = 2*gamma*np.e**(-gamma/2*2*times)*(np.cos(Tilde_om*2*times) + gamma/(2*Tilde_om)*np.sin(Tilde_om*2*times))\n",
    "    L = 2*K_t - K_2t\n",
    "    \n",
    "    \n",
    "    fig, ax = plt.subplots()\n",
    "    ax.plot(times[:len(av)], av, label='Simulation')\n",
    "    ax.plot(times[:len(av)], L[:len(av)], label='Analytical result')\n",
    "    ax.axhline(y=0.01, color='red', linestyle='--', label='LG limit')\n",
    "    ax.legend()\n",
    "    #ax.set_xlim(0,80)\n",
    "    ax.set_title('Leggett-Garg factor QDD continuously monitored')\n",
    "    ax.set_xlabel('Time')\n",
    "    ax.set_ylabel('Value')"
   ]
  },
  {
   "cell_type": "code",
   "execution_count": 15,
   "id": "5860a304",
   "metadata": {},
   "outputs": [],
   "source": [
    "'''Plots the leggett garg factor for the feedback dynamics comparing it with theoretical one'''\n",
    "\n",
    "def plot_legg_feed(times, av, mu):\n",
    "    \n",
    "    chi = 0.1\n",
    "    omega = 0.3\n",
    "    T = 10.\n",
    "    zin = 1\n",
    "    yin = 0\n",
    "    B = 2*omega+2*T*mu+2*chi*mu\n",
    "    delta = 4*B**2-chi**4/4\n",
    "    alpha = 2*mu**2+1/4*chi**2\n",
    "    Cost1 = 2*mu*chi*B/(B**2+mu**2*chi**2+4*mu**4)+zin\n",
    "    Cost2 = 1/np.sqrt(delta)*(1/2*chi**2*zin+2*B*yin+2*mu*chi*B*(4*mu**2+1/4*chi**2)/(B**2+mu**2*chi**2+4*mu**4))\n",
    "    Cost3 = 2*mu*chi*B/(B**2+mu**2*chi**2+4*mu**4)\n",
    "    z = np.exp(-alpha*times)*(Cost1*np.cos(1/2*np.sqrt(delta)*times)+Cost2*np.sin(1/2*np.sqrt(delta)*times))-Cost3\n",
    "    z2t = np.exp(-alpha*2*times)*(Cost1*np.cos(1/2*np.sqrt(delta)*2*times)+Cost2*np.sin(1/2*np.sqrt(delta)*2*times))-Cost3\n",
    "\n",
    "    newyin=-2*zin*mu-yin*zin*chi\n",
    "    newzin = 2*yin*mu+(1-zin**2)*chi\n",
    "    newCost1 = 2*mu*chi*B/(B**2+mu**2*chi**2+4*mu**4)+newzin \n",
    "    newCost2 = 1/np.sqrt(delta)*(1/2*chi**2*newzin+2*B*newyin+2*mu*chi*B*(4*mu**2+1/4*chi**2)/(B**2+mu**2*chi**2+4*mu**4))\n",
    "    \n",
    "    znew = np.exp(-alpha*times)*(newCost1*np.cos(1/2*np.sqrt(delta)*times)+newCost2*np.sin(1/2*np.sqrt(delta)*times))-Cost3\n",
    "    znew2t = np.exp(-alpha*2*times)*(newCost1*np.cos(1/2*np.sqrt(delta)*2*times)+newCost2*np.sin(1/2*np.sqrt(delta)*2*times))-Cost3\n",
    "    FeedCorr = chi**2*z*zin+chi*znew\n",
    "    FeedCorr2t = chi**2*z2t*zin+chi*znew2t\n",
    "    LeggettGarg = 2*FeedCorr-FeedCorr2t\n",
    "    \n",
    "    fig, ax = plt.subplots()\n",
    "    ax.plot(times[:len(av)], av, label='Simulation')\n",
    "    ax.axhline(y=0.01, color='red', linestyle='--', label='LG limit')\n",
    "    ax.plot(times[:len(LeggettGarg)], LeggettGarg, label='Feedback analytical solution')\n",
    "    ax.legend()\n",
    "    ax.set_xlim(0,15)\n",
    "    ax.set_title('Leggett-Garg factor QDD continuously monitored feedback')\n",
    "    ax.set_xlabel('Time')\n",
    "    ax.set_ylabel('Value')\n",
    "    \n",
    "    "
   ]
  },
  {
   "cell_type": "code",
   "execution_count": null,
   "id": "e156863b",
   "metadata": {},
   "outputs": [],
   "source": []
  }
 ],
 "metadata": {
  "kernelspec": {
   "display_name": "Python 3 (ipykernel)",
   "language": "python",
   "name": "python3"
  },
  "language_info": {
   "codemirror_mode": {
    "name": "ipython",
    "version": 3
   },
   "file_extension": ".py",
   "mimetype": "text/x-python",
   "name": "python",
   "nbconvert_exporter": "python",
   "pygments_lexer": "ipython3",
   "version": "3.11.4"
  }
 },
 "nbformat": 4,
 "nbformat_minor": 5
}
