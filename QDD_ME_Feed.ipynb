{
 "cells": [
  {
   "cell_type": "markdown",
   "id": "9641a5cc",
   "metadata": {},
   "source": [
    "# QDD, Feedback Master equation"
   ]
  },
  {
   "cell_type": "code",
   "execution_count": 1,
   "id": "5576102b",
   "metadata": {},
   "outputs": [],
   "source": [
    "import numpy as np\n",
    "import matplotlib.pyplot as plt\n",
    "import qutip as qt\n",
    "import cmath\n",
    "import statsmodels.api as sm\n",
    "import scipy as sp\n",
    "%run Functions.ipynb"
   ]
  },
  {
   "cell_type": "markdown",
   "id": "9bd04563",
   "metadata": {},
   "source": [
    "$$\\newcommand{\\ket}[1]{\\left|{#1}\\right\\rangle}$$\n",
    "$$\\newcommand{\\bra}[1]{\\left\\langle{#1}\\right|}$$"
   ]
  },
  {
   "cell_type": "markdown",
   "id": "7f233c27",
   "metadata": {},
   "source": [
    "### State vectors and field operators"
   ]
  },
  {
   "cell_type": "markdown",
   "id": "65c3d769",
   "metadata": {},
   "source": [
    "Definition of the states corresponding to the two potential wells:"
   ]
  },
  {
   "cell_type": "code",
   "execution_count": 2,
   "id": "9c73c6e8",
   "metadata": {},
   "outputs": [],
   "source": [
    "psi_0 = qt.fock(2,0)\n",
    "psi_1 = qt.fock(2,1)\n",
    "O_I = qt.tensor(psi_0,psi_1)\n",
    "I_O = qt.tensor(psi_1,psi_0)"
   ]
  },
  {
   "cell_type": "markdown",
   "id": "2ca48a92",
   "metadata": {},
   "source": [
    "Initial conditions:"
   ]
  },
  {
   "cell_type": "code",
   "execution_count": 3,
   "id": "b701c660",
   "metadata": {
    "scrolled": false
   },
   "outputs": [
    {
     "data": {
      "text/latex": [
       "Quantum object: dims = [[1], [1]], shape = (1, 1), type = bra $ \\\\ \\left(\\begin{matrix}1.0\\\\\\end{matrix}\\right)$"
      ],
      "text/plain": [
       "Quantum object: dims = [[1], [1]], shape = (1, 1), type = bra\n",
       "Qobj data =\n",
       "[[1.]]"
      ]
     },
     "execution_count": 3,
     "metadata": {},
     "output_type": "execute_result"
    }
   ],
   "source": [
    "initial_ket = +np.cos(np.pi/8)*I_O+1j*np.sin(np.pi/8)*O_I\n",
    "initial_ket.dag()*initial_ket"
   ]
  },
  {
   "cell_type": "markdown",
   "id": "cdc95e39",
   "metadata": {},
   "source": [
    "Definition of the field operators:"
   ]
  },
  {
   "cell_type": "code",
   "execution_count": 4,
   "id": "ecaa2fb9",
   "metadata": {},
   "outputs": [],
   "source": [
    "a_1 = qt.tensor(qt.destroy(2), qt.qeye(2))\n",
    "a_2 = qt.tensor(qt.qeye(2), qt.destroy(2))"
   ]
  },
  {
   "cell_type": "markdown",
   "id": "bd3c0886",
   "metadata": {},
   "source": [
    "Definition of the number operators:"
   ]
  },
  {
   "cell_type": "code",
   "execution_count": 5,
   "id": "83a68dbb",
   "metadata": {},
   "outputs": [],
   "source": [
    "N_1 = a_1.dag()*a_1\n",
    "N_2 = a_2.dag()*a_2"
   ]
  },
  {
   "cell_type": "markdown",
   "id": "eaa38b13",
   "metadata": {},
   "source": [
    "Bloch operators:"
   ]
  },
  {
   "cell_type": "code",
   "execution_count": 6,
   "id": "7ee65e7b",
   "metadata": {},
   "outputs": [],
   "source": [
    "x = a_1.dag()*a_2+a_2.dag()*a_1\n",
    "y = 1j*(-a_1.dag()*a_2+a_2.dag()*a_1)\n",
    "z = a_1.dag()*a_1-a_2.dag()*a_2"
   ]
  },
  {
   "cell_type": "markdown",
   "id": "e3f2e966",
   "metadata": {},
   "source": [
    "Expectation values initial conditions:"
   ]
  },
  {
   "cell_type": "code",
   "execution_count": 7,
   "id": "27bda52e",
   "metadata": {},
   "outputs": [
    {
     "name": "stdout",
     "output_type": "stream",
     "text": [
      "expected initial x 0.0\n",
      "expected initial y 0.7071067811865476\n",
      "expected initial z 0.7071067811865475\n"
     ]
    }
   ],
   "source": [
    "print('expected initial x', qt.expect(x, initial_ket))\n",
    "print('expected initial y', qt.expect(y, initial_ket))\n",
    "print('expected initial z', qt.expect(z, initial_ket))"
   ]
  },
  {
   "cell_type": "markdown",
   "id": "c2675f5e",
   "metadata": {},
   "source": [
    "Initial density operator:"
   ]
  },
  {
   "cell_type": "code",
   "execution_count": 8,
   "id": "de80b53e",
   "metadata": {},
   "outputs": [],
   "source": [
    "rho_0 = initial_ket*initial_ket.dag()"
   ]
  },
  {
   "cell_type": "code",
   "execution_count": 9,
   "id": "a0314d01",
   "metadata": {
    "scrolled": true
   },
   "outputs": [
    {
     "data": {
      "text/latex": [
       "Quantum object: dims = [[2, 2], [2, 2]], shape = (4, 4), type = oper, isherm = True $ \\\\ \\left(\\begin{matrix}0.0 & 0.0 & 0.0 & 0.0\\\\0.0 & 0.146 & 0.354j & 0.0\\\\0.0 & -0.354j & 0.854 & 0.0\\\\0.0 & 0.0 & 0.0 & 0.0\\\\\\end{matrix}\\right)$"
      ],
      "text/plain": [
       "Quantum object: dims = [[2, 2], [2, 2]], shape = (4, 4), type = oper, isherm = True\n",
       "Qobj data =\n",
       "[[0.        +0.j         0.        +0.j         0.        +0.j\n",
       "  0.        +0.j        ]\n",
       " [0.        +0.j         0.14644661+0.j         0.        +0.35355339j\n",
       "  0.        +0.j        ]\n",
       " [0.        +0.j         0.        -0.35355339j 0.85355339+0.j\n",
       "  0.        +0.j        ]\n",
       " [0.        +0.j         0.        +0.j         0.        +0.j\n",
       "  0.        +0.j        ]]"
      ]
     },
     "execution_count": 9,
     "metadata": {},
     "output_type": "execute_result"
    }
   ],
   "source": [
    "rho_0"
   ]
  },
  {
   "cell_type": "markdown",
   "id": "6d50eec4",
   "metadata": {},
   "source": [
    "### Feedback Master Equation"
   ]
  },
  {
   "cell_type": "markdown",
   "id": "bbb2ac44",
   "metadata": {},
   "source": [
    "Parameters of the feedback ME:"
   ]
  },
  {
   "cell_type": "code",
   "execution_count": 10,
   "id": "b44f27fb",
   "metadata": {},
   "outputs": [],
   "source": [
    "omega_1 = 0 \n",
    "omega_2 = 0\n",
    "Omega = 0.3 #Exchange energy\n",
    "mu = 0.02 #Feedback strenght\n",
    "T = 10. #Tunneling coefficient\n",
    "chi = 0.1 #Tunneling coefficient variation\n",
    "gamma = abs(chi)/abs(T)\n",
    "dt = 0.1\n",
    "times = np.arange(0, 30, dt)\n",
    "NUMBER_OF_TRAJECTORIES = 20000"
   ]
  },
  {
   "cell_type": "markdown",
   "id": "57724be9",
   "metadata": {},
   "source": [
    "Operators:"
   ]
  },
  {
   "cell_type": "code",
   "execution_count": 11,
   "id": "64de5dfa",
   "metadata": {},
   "outputs": [],
   "source": [
    "F = mu*x #feedback operator \n",
    "A = T + chi*N_1 \n",
    "Jump =A-1j*F#Jump operator for the ME in Lindblad form\n",
    "H = Omega*(a_1.dag()*a_2 + a_2.dag()*a_1)+1/2*(A*F+F*A)-T*F #Hamiltonian"
   ]
  },
  {
   "cell_type": "code",
   "execution_count": 12,
   "id": "c535969f",
   "metadata": {
    "scrolled": true
   },
   "outputs": [
    {
     "name": "stdout",
     "output_type": "stream",
     "text": [
      "noise order 3.162277660168379\n"
     ]
    }
   ],
   "source": [
    "#noise order\n",
    "print('noise order', 1/np.sqrt(dt))"
   ]
  },
  {
   "cell_type": "markdown",
   "id": "33237437",
   "metadata": {},
   "source": [
    "Current operators:"
   ]
  },
  {
   "cell_type": "code",
   "execution_count": 13,
   "id": "4e6f9c52",
   "metadata": {},
   "outputs": [],
   "source": [
    "I = abs(T)*(1 + 2*gamma*np.cos(cmath.phase(T) - cmath.phase(chi))*(a_1.dag()*a_1 - a_2.dag()*a_2))\n",
    "I_1 = chi*z"
   ]
  },
  {
   "cell_type": "code",
   "execution_count": 14,
   "id": "bd102bdc",
   "metadata": {
    "scrolled": true
   },
   "outputs": [
    {
     "data": {
      "text/latex": [
       "Quantum object: dims = [[2, 2], [2, 2]], shape = (4, 4), type = oper, isherm = True $ \\\\ \\left(\\begin{matrix}0.0 & 0.0 & 0.0 & 0.0\\\\0.0 & -0.100 & 0.0 & 0.0\\\\0.0 & 0.0 & 0.100 & 0.0\\\\0.0 & 0.0 & 0.0 & 0.0\\\\\\end{matrix}\\right)$"
      ],
      "text/plain": [
       "Quantum object: dims = [[2, 2], [2, 2]], shape = (4, 4), type = oper, isherm = True\n",
       "Qobj data =\n",
       "[[ 0.   0.   0.   0. ]\n",
       " [ 0.  -0.1  0.   0. ]\n",
       " [ 0.   0.   0.1  0. ]\n",
       " [ 0.   0.   0.   0. ]]"
      ]
     },
     "execution_count": 14,
     "metadata": {},
     "output_type": "execute_result"
    }
   ],
   "source": [
    "I_1"
   ]
  },
  {
   "cell_type": "markdown",
   "id": "c60e4f5e",
   "metadata": {},
   "source": [
    "### Simulation"
   ]
  },
  {
   "cell_type": "code",
   "execution_count": 15,
   "id": "fa374c8e",
   "metadata": {
    "scrolled": true
   },
   "outputs": [
    {
     "name": "stdout",
     "output_type": "stream",
     "text": [
      "10.0%. Run time: 748.02s. Est. time left: 00:01:52:12\n",
      "20.0%. Run time: 1507.16s. Est. time left: 00:01:40:28\n",
      "30.0%. Run time: 2261.92s. Est. time left: 00:01:27:57\n",
      "40.0%. Run time: 2960.37s. Est. time left: 00:01:14:00\n",
      "50.0%. Run time: 3681.12s. Est. time left: 00:01:01:21\n",
      "60.0%. Run time: 62176.34s. Est. time left: 00:11:30:50\n",
      "70.0%. Run time: 62755.76s. Est. time left: 00:07:28:15\n"
     ]
    },
    {
     "ename": "KeyboardInterrupt",
     "evalue": "",
     "output_type": "error",
     "traceback": [
      "\u001b[1;31m---------------------------------------------------------------------------\u001b[0m",
      "\u001b[1;31mKeyboardInterrupt\u001b[0m                         Traceback (most recent call last)",
      "Cell \u001b[1;32mIn[15], line 1\u001b[0m\n\u001b[1;32m----> 1\u001b[0m stoc_solution \u001b[38;5;241m=\u001b[39m qt\u001b[38;5;241m.\u001b[39msmesolve(H, rho_0, times,\n\u001b[0;32m      2\u001b[0m                             c_ops\u001b[38;5;241m=\u001b[39m[],\n\u001b[0;32m      3\u001b[0m                             sc_ops\u001b[38;5;241m=\u001b[39m[Jump],\n\u001b[0;32m      4\u001b[0m                             m_ops \u001b[38;5;241m=\u001b[39m [I_1],\n\u001b[0;32m      5\u001b[0m                             ntraj\u001b[38;5;241m=\u001b[39mNUMBER_OF_TRAJECTORIES,\n\u001b[0;32m      6\u001b[0m                             nsubsteps\u001b[38;5;241m=\u001b[39m\u001b[38;5;241m100\u001b[39m,\n\u001b[0;32m      7\u001b[0m                             store_measurement\u001b[38;5;241m=\u001b[39m\u001b[38;5;28;01mTrue\u001b[39;00m,\n\u001b[0;32m      8\u001b[0m                             dW_factors\u001b[38;5;241m=\u001b[39m[\u001b[38;5;241m1.\u001b[39m])\n",
      "File \u001b[1;32m~\\anaconda3\\Lib\\site-packages\\qutip\\stochastic.py:647\u001b[0m, in \u001b[0;36msmesolve\u001b[1;34m(H, rho0, times, c_ops, sc_ops, e_ops, _safe_mode, args, **kwargs)\u001b[0m\n\u001b[0;32m    644\u001b[0m sso\u001b[38;5;241m.\u001b[39msolver_obj \u001b[38;5;241m=\u001b[39m SMESolver\n\u001b[0;32m    645\u001b[0m sso\u001b[38;5;241m.\u001b[39msolver_name \u001b[38;5;241m=\u001b[39m \u001b[38;5;124m\"\u001b[39m\u001b[38;5;124msmesolve_\u001b[39m\u001b[38;5;124m\"\u001b[39m \u001b[38;5;241m+\u001b[39m sso\u001b[38;5;241m.\u001b[39msolver\n\u001b[1;32m--> 647\u001b[0m res \u001b[38;5;241m=\u001b[39m _sesolve_generic(sso, sso\u001b[38;5;241m.\u001b[39moptions, sso\u001b[38;5;241m.\u001b[39mprogress_bar)\n\u001b[0;32m    649\u001b[0m \u001b[38;5;28;01mif\u001b[39;00m e_ops_dict:\n\u001b[0;32m    650\u001b[0m     res\u001b[38;5;241m.\u001b[39mexpect \u001b[38;5;241m=\u001b[39m {e: res\u001b[38;5;241m.\u001b[39mexpect[n]\n\u001b[0;32m    651\u001b[0m                   \u001b[38;5;28;01mfor\u001b[39;00m n, e \u001b[38;5;129;01min\u001b[39;00m \u001b[38;5;28menumerate\u001b[39m(e_ops_dict\u001b[38;5;241m.\u001b[39mkeys())}\n",
      "File \u001b[1;32m~\\anaconda3\\Lib\\site-packages\\qutip\\stochastic.py:1301\u001b[0m, in \u001b[0;36m_sesolve_generic\u001b[1;34m(sso, options, progress_bar)\u001b[0m\n\u001b[0;32m   1298\u001b[0m task_args \u001b[38;5;241m=\u001b[39m (sso,)\n\u001b[0;32m   1299\u001b[0m task_kwargs \u001b[38;5;241m=\u001b[39m {}\n\u001b[1;32m-> 1301\u001b[0m results \u001b[38;5;241m=\u001b[39m sso\u001b[38;5;241m.\u001b[39mmap_func(task, \u001b[38;5;28mlist\u001b[39m(\u001b[38;5;28mrange\u001b[39m(sso\u001b[38;5;241m.\u001b[39mntraj)),\n\u001b[0;32m   1302\u001b[0m                        task_args, task_kwargs, \u001b[38;5;241m*\u001b[39m\u001b[38;5;241m*\u001b[39mmap_kwargs)\n\u001b[0;32m   1303\u001b[0m noise \u001b[38;5;241m=\u001b[39m []\n\u001b[0;32m   1304\u001b[0m \u001b[38;5;28;01mfor\u001b[39;00m result \u001b[38;5;129;01min\u001b[39;00m results:\n",
      "File \u001b[1;32m~\\anaconda3\\Lib\\site-packages\\qutip\\parallel.py:158\u001b[0m, in \u001b[0;36mserial_map\u001b[1;34m(task, values, task_args, task_kwargs, **kwargs)\u001b[0m\n\u001b[0;32m    156\u001b[0m \u001b[38;5;28;01mfor\u001b[39;00m n, value \u001b[38;5;129;01min\u001b[39;00m \u001b[38;5;28menumerate\u001b[39m(values):\n\u001b[0;32m    157\u001b[0m     progress_bar\u001b[38;5;241m.\u001b[39mupdate(n)\n\u001b[1;32m--> 158\u001b[0m     result \u001b[38;5;241m=\u001b[39m task(value, \u001b[38;5;241m*\u001b[39mtask_args, \u001b[38;5;241m*\u001b[39m\u001b[38;5;241m*\u001b[39mtask_kwargs)\n\u001b[0;32m    159\u001b[0m     results\u001b[38;5;241m.\u001b[39mappend(result)\n\u001b[0;32m    160\u001b[0m progress_bar\u001b[38;5;241m.\u001b[39mfinished()\n",
      "File \u001b[1;32m~\\anaconda3\\Lib\\site-packages\\qutip\\stochastic.py:1367\u001b[0m, in \u001b[0;36m_single_trajectory\u001b[1;34m(i, sso)\u001b[0m\n\u001b[0;32m   1365\u001b[0m ssolver \u001b[38;5;241m=\u001b[39m sso\u001b[38;5;241m.\u001b[39msolver_obj()\n\u001b[0;32m   1366\u001b[0m ssolver\u001b[38;5;241m.\u001b[39mset_solver(sso)\n\u001b[1;32m-> 1367\u001b[0m result \u001b[38;5;241m=\u001b[39m ssolver\u001b[38;5;241m.\u001b[39mcy_sesolve_single_trajectory(i)\n\u001b[0;32m   1368\u001b[0m \u001b[38;5;28;01mreturn\u001b[39;00m result\n",
      "File \u001b[1;32m~\\anaconda3\\Lib\\site-packages\\qutip\\cy\\stochastic.pyx:512\u001b[0m, in \u001b[0;36mqutip.cy.stochastic.StochasticSolver.cy_sesolve_single_trajectory\u001b[1;34m()\u001b[0m\n",
      "File \u001b[1;32m~\\anaconda3\\Lib\\site-packages\\qutip\\superoperator.py:294\u001b[0m, in \u001b[0;36mvec2mat\u001b[1;34m(vec, shape)\u001b[0m\n\u001b[0;32m    290\u001b[0m \u001b[38;5;250m\u001b[39m\u001b[38;5;124;03m\"\"\"\u001b[39;00m\n\u001b[0;32m    291\u001b[0m \u001b[38;5;124;03mPrivate function reshaping vector to matrix.\u001b[39;00m\n\u001b[0;32m    292\u001b[0m \u001b[38;5;124;03m\"\"\"\u001b[39;00m\n\u001b[0;32m    293\u001b[0m \u001b[38;5;28;01mif\u001b[39;00m shape \u001b[38;5;129;01mis\u001b[39;00m \u001b[38;5;28;01mNone\u001b[39;00m:\n\u001b[1;32m--> 294\u001b[0m     n \u001b[38;5;241m=\u001b[39m \u001b[38;5;28mint\u001b[39m(np\u001b[38;5;241m.\u001b[39msqrt(\u001b[38;5;28mlen\u001b[39m(vec)))\n\u001b[0;32m    295\u001b[0m     shape \u001b[38;5;241m=\u001b[39m (n, n)\n\u001b[0;32m    296\u001b[0m \u001b[38;5;28;01mreturn\u001b[39;00m vec\u001b[38;5;241m.\u001b[39mreshape(shape[::\u001b[38;5;241m-\u001b[39m\u001b[38;5;241m1\u001b[39m])\u001b[38;5;241m.\u001b[39mT\n",
      "\u001b[1;31mKeyboardInterrupt\u001b[0m: "
     ]
    }
   ],
   "source": [
    "stoc_solution = qt.smesolve(H, rho_0, times,\n",
    "                            c_ops=[],\n",
    "                            sc_ops=[Jump],\n",
    "                            m_ops = [I_1],\n",
    "                            ntraj=NUMBER_OF_TRAJECTORIES,\n",
    "                            nsubsteps=100,\n",
    "                            store_measurement=True,\n",
    "                            dW_factors=[1.])"
   ]
  },
  {
   "cell_type": "markdown",
   "id": "8216eff2",
   "metadata": {},
   "source": [
    "### Unconditional solution"
   ]
  },
  {
   "cell_type": "code",
   "execution_count": null,
   "id": "9b62e212",
   "metadata": {},
   "outputs": [],
   "source": [
    "fig, ax = plt.subplots()\n",
    "ax.set_title(f'Unconditional solution for {NUMBER_OF_TRAJECTORIES} trajectories')\n",
    "ax.plot(times, np.array(stoc_solution.measurement).mean(axis=0)[:],\n",
    "        'r', label=r'$J_x$')\n",
    "#ax.set_xlim(0,10)"
   ]
  },
  {
   "cell_type": "markdown",
   "id": "b19c7cf8",
   "metadata": {},
   "source": [
    "### Example of conditional solution"
   ]
  },
  {
   "cell_type": "code",
   "execution_count": null,
   "id": "99d85b1a",
   "metadata": {},
   "outputs": [],
   "source": [
    "fig, ax = plt.subplots()\n",
    "ax.set_title('Stochastic Master Equation - double dot, single trajectory')\n",
    "ax.plot(times,stoc_solution.measurement[5],\n",
    "        'r', lw=2, label=r'$J_x$')"
   ]
  },
  {
   "cell_type": "markdown",
   "id": "43fab941",
   "metadata": {},
   "source": [
    "### Save"
   ]
  },
  {
   "cell_type": "code",
   "execution_count": null,
   "id": "ee33ea51",
   "metadata": {},
   "outputs": [],
   "source": [
    "Ens = reshape_measurement(NUMBER_OF_TRAJECTORIES, len(times), stoc_solution.measurement)"
   ]
  },
  {
   "cell_type": "code",
   "execution_count": null,
   "id": "631a6f17",
   "metadata": {},
   "outputs": [],
   "source": [
    "np.savetxt('TrajectoriesFeedback2/feed_best_20.txt', Ens)"
   ]
  },
  {
   "cell_type": "code",
   "execution_count": null,
   "id": "07775c7e",
   "metadata": {},
   "outputs": [],
   "source": []
  },
  {
   "cell_type": "code",
   "execution_count": null,
   "id": "c7288f89",
   "metadata": {},
   "outputs": [],
   "source": []
  }
 ],
 "metadata": {
  "kernelspec": {
   "display_name": "Python 3 (ipykernel)",
   "language": "python",
   "name": "python3"
  },
  "language_info": {
   "codemirror_mode": {
    "name": "ipython",
    "version": 3
   },
   "file_extension": ".py",
   "mimetype": "text/x-python",
   "name": "python",
   "nbconvert_exporter": "python",
   "pygments_lexer": "ipython3",
   "version": "3.11.4"
  }
 },
 "nbformat": 4,
 "nbformat_minor": 5
}
