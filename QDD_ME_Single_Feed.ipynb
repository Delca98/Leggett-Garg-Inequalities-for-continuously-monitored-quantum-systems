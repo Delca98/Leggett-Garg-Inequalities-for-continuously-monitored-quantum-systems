{
 "cells": [
  {
   "cell_type": "markdown",
   "id": "9641a5cc",
   "metadata": {},
   "source": [
    "# Single Trajectory with Feedback"
   ]
  },
  {
   "cell_type": "code",
   "execution_count": null,
   "id": "5576102b",
   "metadata": {},
   "outputs": [],
   "source": [
    "import numpy as np\n",
    "import matplotlib.pyplot as plt\n",
    "import qutip as qt\n",
    "import cmath\n",
    "import statsmodels.api as sm\n",
    "import scipy as sp\n",
    "%run Functions.ipynb"
   ]
  },
  {
   "cell_type": "markdown",
   "id": "7f233c27",
   "metadata": {},
   "source": [
    "### State vectors and field operators"
   ]
  },
  {
   "cell_type": "markdown",
   "id": "65c3d769",
   "metadata": {},
   "source": [
    "Definition of the states corresponding to the two potential wells:"
   ]
  },
  {
   "cell_type": "code",
   "execution_count": null,
   "id": "9c73c6e8",
   "metadata": {},
   "outputs": [],
   "source": [
    "psi_0 = qt.fock(2,0)\n",
    "psi_1 = qt.fock(2,1)\n",
    "O_I = qt.tensor(psi_0,psi_1)\n",
    "I_O = qt.tensor(psi_1,psi_0)"
   ]
  },
  {
   "cell_type": "markdown",
   "id": "bdd53fe8",
   "metadata": {},
   "source": [
    "Initial conditions:"
   ]
  },
  {
   "cell_type": "code",
   "execution_count": null,
   "id": "b701c660",
   "metadata": {},
   "outputs": [],
   "source": [
    "initial_ket = +np.cos(np.pi/8)*I_O+1j*np.sin(np.pi/8)*O_I\n",
    "initial_ket.dag()*initial_ket"
   ]
  },
  {
   "cell_type": "markdown",
   "id": "a8f8a75b",
   "metadata": {},
   "source": [
    "Definition of the field operators:"
   ]
  },
  {
   "cell_type": "code",
   "execution_count": null,
   "id": "ecaa2fb9",
   "metadata": {},
   "outputs": [],
   "source": [
    "a_1 = qt.tensor(qt.destroy(2), qt.qeye(2))\n",
    "a_2 = qt.tensor(qt.qeye(2), qt.destroy(2))"
   ]
  },
  {
   "cell_type": "markdown",
   "id": "38d0eb3e",
   "metadata": {},
   "source": [
    "Definition of the number operators:"
   ]
  },
  {
   "cell_type": "code",
   "execution_count": null,
   "id": "83a68dbb",
   "metadata": {},
   "outputs": [],
   "source": [
    "N_1 = a_1.dag()*a_1\n",
    "N_2 = a_2.dag()*a_2"
   ]
  },
  {
   "cell_type": "markdown",
   "id": "628d7586",
   "metadata": {},
   "source": [
    "Bloch operators:"
   ]
  },
  {
   "cell_type": "code",
   "execution_count": null,
   "id": "7ee65e7b",
   "metadata": {},
   "outputs": [],
   "source": [
    "x = a_1.dag()*a_2+a_2.dag()*a_1\n",
    "y = 1j*(-a_1.dag()*a_2+a_2.dag()*a_1)\n",
    "z = a_1.dag()*a_1-a_2.dag()*a_2"
   ]
  },
  {
   "cell_type": "markdown",
   "id": "66dc38f2",
   "metadata": {},
   "source": [
    "Expectation values initial conditions:"
   ]
  },
  {
   "cell_type": "code",
   "execution_count": null,
   "id": "27bda52e",
   "metadata": {},
   "outputs": [],
   "source": [
    "print('expected initial x', qt.expect(x, initial_ket))\n",
    "print('expected initial y', qt.expect(y, initial_ket))\n",
    "print('expected initial z', qt.expect(z, initial_ket))"
   ]
  },
  {
   "cell_type": "markdown",
   "id": "299109d2",
   "metadata": {},
   "source": [
    "Initial density operator:"
   ]
  },
  {
   "cell_type": "code",
   "execution_count": null,
   "id": "de80b53e",
   "metadata": {},
   "outputs": [],
   "source": [
    "rho_0 = initial_ket*initial_ket.dag()"
   ]
  },
  {
   "cell_type": "code",
   "execution_count": null,
   "id": "a0314d01",
   "metadata": {},
   "outputs": [],
   "source": [
    "rho_0"
   ]
  },
  {
   "cell_type": "markdown",
   "id": "6d50eec4",
   "metadata": {},
   "source": [
    "### Feedback Master Equation"
   ]
  },
  {
   "cell_type": "markdown",
   "id": "b8638c54",
   "metadata": {},
   "source": [
    "Parameters of the feedback ME:"
   ]
  },
  {
   "cell_type": "code",
   "execution_count": null,
   "id": "b44f27fb",
   "metadata": {},
   "outputs": [],
   "source": [
    "omega_1 = 0 \n",
    "omega_2 = 0\n",
    "Omega = 0.3 #Exchange energy\n",
    "mu = 0.02 #Feedback strenght\n",
    "T = 10. #Tunneling coefficient\n",
    "chi = 0.1 #Tunneling coefficient variation\n",
    "gamma = abs(chi)/abs(T)\n",
    "dt = 0.1\n",
    "times = np.arange(0, 1000000, dt)\n",
    "NUMBER_OF_TRAJECTORIES = 1"
   ]
  },
  {
   "cell_type": "markdown",
   "id": "57724be9",
   "metadata": {},
   "source": [
    "Operators:"
   ]
  },
  {
   "cell_type": "code",
   "execution_count": null,
   "id": "64de5dfa",
   "metadata": {},
   "outputs": [],
   "source": [
    "F = mu*x #feedback operator \n",
    "A = T + chi*N_1 \n",
    "Jump =A-1j*F#Jump operator for the ME in Lindblad form\n",
    "H = Omega*(a_1.dag()*a_2 + a_2.dag()*a_1)+1/2*(A*F+F*A)-T*F #Hamiltonian"
   ]
  },
  {
   "cell_type": "code",
   "execution_count": null,
   "id": "c535969f",
   "metadata": {},
   "outputs": [],
   "source": [
    "#noise order\n",
    "print('noise order', 1/np.sqrt(dt))"
   ]
  },
  {
   "cell_type": "markdown",
   "id": "0991acfc",
   "metadata": {},
   "source": [
    "Current operators:"
   ]
  },
  {
   "cell_type": "code",
   "execution_count": null,
   "id": "4e6f9c52",
   "metadata": {},
   "outputs": [],
   "source": [
    "I = abs(T)*(1 + 2*gamma*np.cos(cmath.phase(T) - cmath.phase(chi))*(a_1.dag()*a_1 - a_2.dag()*a_2))\n",
    "I_1 = chi*z"
   ]
  },
  {
   "cell_type": "code",
   "execution_count": null,
   "id": "bd102bdc",
   "metadata": {
    "scrolled": true
   },
   "outputs": [],
   "source": [
    "I_1"
   ]
  },
  {
   "cell_type": "markdown",
   "id": "c60e4f5e",
   "metadata": {},
   "source": [
    "### Simulation"
   ]
  },
  {
   "cell_type": "code",
   "execution_count": null,
   "id": "fa374c8e",
   "metadata": {
    "scrolled": false
   },
   "outputs": [],
   "source": [
    "stoc_solution = qt.smesolve(H, rho_0, times,\n",
    "                            c_ops=[],\n",
    "                            sc_ops=[Jump],\n",
    "                            m_ops = [I_1],\n",
    "                            ntraj=NUMBER_OF_TRAJECTORIES,\n",
    "                            nsubsteps=100,\n",
    "                            store_measurement=True,\n",
    "                            dW_factors=[1.])"
   ]
  },
  {
   "cell_type": "markdown",
   "id": "0317647e",
   "metadata": {},
   "source": [
    "### Single Trajectory solution"
   ]
  },
  {
   "cell_type": "code",
   "execution_count": null,
   "id": "99d85b1a",
   "metadata": {},
   "outputs": [],
   "source": [
    "fig, ax = plt.subplots()\n",
    "ax.set_title('Stochastic Master Equation - double dot, single trajectory')\n",
    "ax.plot(times,stoc_solution.measurement[0],\n",
    "        'r', lw=2, label=r'$J_x$')"
   ]
  },
  {
   "cell_type": "markdown",
   "id": "9bd04563",
   "metadata": {},
   "source": [
    "$$\\newcommand{\\ket}[1]{\\left|{#1}\\right\\rangle}$$\n",
    "$$\\newcommand{\\bra}[1]{\\left\\langle{#1}\\right|}$$"
   ]
  },
  {
   "cell_type": "code",
   "execution_count": null,
   "id": "631a6f17",
   "metadata": {},
   "outputs": [],
   "source": [
    "np.savetxt('SingleFeed/single_feed.txt', stoc_solution.measurement[0])"
   ]
  },
  {
   "cell_type": "code",
   "execution_count": null,
   "id": "521021c8",
   "metadata": {},
   "outputs": [],
   "source": []
  }
 ],
 "metadata": {
  "kernelspec": {
   "display_name": "Python 3 (ipykernel)",
   "language": "python",
   "name": "python3"
  },
  "language_info": {
   "codemirror_mode": {
    "name": "ipython",
    "version": 3
   },
   "file_extension": ".py",
   "mimetype": "text/x-python",
   "name": "python",
   "nbconvert_exporter": "python",
   "pygments_lexer": "ipython3",
   "version": "3.11.4"
  }
 },
 "nbformat": 4,
 "nbformat_minor": 5
}
