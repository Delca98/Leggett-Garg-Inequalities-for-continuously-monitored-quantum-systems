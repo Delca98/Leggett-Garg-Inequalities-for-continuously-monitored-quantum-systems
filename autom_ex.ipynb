{
 "cells": [
  {
   "cell_type": "code",
   "execution_count": 1,
   "id": "84f3a5fe",
   "metadata": {},
   "outputs": [],
   "source": [
    "import nbformat\n",
    "from nbconvert.preprocessors import ExecutePreprocessor\n",
    "import os\n",
    "\n",
    "def run_notebook_with_filename(notebook_filename, save_filename):\n",
    "    # Load the notebook\n",
    "    with open(notebook_filename) as f:\n",
    "        nb = nbformat.read(f, as_version=4)\n",
    "\n",
    "    # Modify the save filename in the notebook\n",
    "    for cell in nb.cells:\n",
    "        if cell.cell_type == 'code' and \"np.savetxt(\" in cell.source:\n",
    "            # Replace the filename in the np.savetxt line\n",
    "            cell.source = cell.source.replace('TrajectoriesFeedback2/feed_best_20.txt', save_filename)\n",
    "            break\n",
    "\n",
    "    # Execute the notebook\n",
    "    ep = ExecutePreprocessor(timeout=None, kernel_name='python3')\n",
    "    ep.preprocess(nb, {'metadata': {'path': './'}})\n"
   ]
  },
  {
   "cell_type": "code",
   "execution_count": null,
   "id": "1734c50d",
   "metadata": {},
   "outputs": [
    {
     "name": "stdout",
     "output_type": "stream",
     "text": [
      "done 22\n"
     ]
    }
   ],
   "source": [
    "notebook_filename = 'QDD_ME_Feed.ipynb'  \n",
    "\n",
    "# Loop to run the notebook multiple times with different output filenames\n",
    "for i in range(41, 45):\n",
    "    save_filename = f'TrajectoriesFeedback2/feed_best{i}.txt'\n",
    "    run_notebook_with_filename(notebook_filename, save_filename)\n",
    "    print(f'done {i-19}')\n",
    "\n",
    "print(\"Notebook executed and files saved successfully.\")"
   ]
  },
  {
   "cell_type": "code",
   "execution_count": null,
   "id": "01f88a9f",
   "metadata": {},
   "outputs": [],
   "source": []
  }
 ],
 "metadata": {
  "kernelspec": {
   "display_name": "Python 3 (ipykernel)",
   "language": "python",
   "name": "python3"
  },
  "language_info": {
   "codemirror_mode": {
    "name": "ipython",
    "version": 3
   },
   "file_extension": ".py",
   "mimetype": "text/x-python",
   "name": "python",
   "nbconvert_exporter": "python",
   "pygments_lexer": "ipython3",
   "version": "3.11.4"
  }
 },
 "nbformat": 4,
 "nbformat_minor": 5
}
