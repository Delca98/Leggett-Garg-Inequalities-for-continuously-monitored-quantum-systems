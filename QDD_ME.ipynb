{
 "cells": [
  {
   "cell_type": "markdown",
   "id": "9641a5cc",
   "metadata": {},
   "source": [
    "# QDD, Master Equation"
   ]
  },
  {
   "cell_type": "code",
   "execution_count": 2,
   "id": "5576102b",
   "metadata": {},
   "outputs": [],
   "source": [
    "import numpy as np\n",
    "import matplotlib.pyplot as plt\n",
    "import qutip as qt\n",
    "import cmath\n",
    "import statsmodels.api as sm\n",
    "import scipy as sp\n",
    "%run Functions.ipynb"
   ]
  },
  {
   "cell_type": "markdown",
   "id": "9bd04563",
   "metadata": {},
   "source": [
    "$$\\newcommand{\\ket}[1]{\\left|{#1}\\right\\rangle}$$\n",
    "$$\\newcommand{\\bra}[1]{\\left\\langle{#1}\\right|}$$"
   ]
  },
  {
   "cell_type": "markdown",
   "id": "7f233c27",
   "metadata": {},
   "source": [
    "### State vectors and field operators"
   ]
  },
  {
   "cell_type": "code",
   "execution_count": 3,
   "id": "9c73c6e8",
   "metadata": {},
   "outputs": [],
   "source": [
    "psi = qt.fock(2,0)"
   ]
  },
  {
   "cell_type": "code",
   "execution_count": 4,
   "id": "9f7560a7",
   "metadata": {},
   "outputs": [
    {
     "data": {
      "text/latex": [
       "Quantum object: dims = [[2], [1]], shape = (2, 1), type = ket $ \\\\ \\left(\\begin{matrix}1.0\\\\0.0\\\\\\end{matrix}\\right)$"
      ],
      "text/plain": [
       "Quantum object: dims = [[2], [1]], shape = (2, 1), type = ket\n",
       "Qobj data =\n",
       "[[1.]\n",
       " [0.]]"
      ]
     },
     "execution_count": 4,
     "metadata": {},
     "output_type": "execute_result"
    }
   ],
   "source": [
    "psi"
   ]
  },
  {
   "cell_type": "code",
   "execution_count": 5,
   "id": "662ece82",
   "metadata": {},
   "outputs": [],
   "source": [
    "fi = qt.fock(2,1)"
   ]
  },
  {
   "cell_type": "markdown",
   "id": "10b5d3c6",
   "metadata": {},
   "source": [
    "Initial conditions:"
   ]
  },
  {
   "cell_type": "code",
   "execution_count": 6,
   "id": "525c54d6",
   "metadata": {},
   "outputs": [],
   "source": [
    "initial_ket = qt.tensor(psi, fi)"
   ]
  },
  {
   "cell_type": "code",
   "execution_count": 7,
   "id": "31268f29",
   "metadata": {},
   "outputs": [
    {
     "data": {
      "text/latex": [
       "Quantum object: dims = [[2, 2], [1, 1]], shape = (4, 1), type = ket $ \\\\ \\left(\\begin{matrix}0.0\\\\1.0\\\\0.0\\\\0.0\\\\\\end{matrix}\\right)$"
      ],
      "text/plain": [
       "Quantum object: dims = [[2, 2], [1, 1]], shape = (4, 1), type = ket\n",
       "Qobj data =\n",
       "[[0.]\n",
       " [1.]\n",
       " [0.]\n",
       " [0.]]"
      ]
     },
     "execution_count": 7,
     "metadata": {},
     "output_type": "execute_result"
    }
   ],
   "source": [
    "initial_ket"
   ]
  },
  {
   "cell_type": "markdown",
   "id": "7add0db1",
   "metadata": {},
   "source": [
    "Field Operators:"
   ]
  },
  {
   "cell_type": "code",
   "execution_count": 7,
   "id": "ecaa2fb9",
   "metadata": {},
   "outputs": [],
   "source": [
    "a_1 = qt.tensor(qt.destroy(2), qt.qeye(2))\n",
    "a_2 = qt.tensor(qt.qeye(2), qt.destroy(2))"
   ]
  },
  {
   "cell_type": "code",
   "execution_count": 8,
   "id": "4b30ad8f",
   "metadata": {},
   "outputs": [
    {
     "data": {
      "text/latex": [
       "Quantum object: dims = [[2], [2]], shape = (2, 2), type = oper, isherm = True $ \\\\ \\left(\\begin{matrix}1.0 & 0.0\\\\0.0 & 1.0\\\\\\end{matrix}\\right)$"
      ],
      "text/plain": [
       "Quantum object: dims = [[2], [2]], shape = (2, 2), type = oper, isherm = True\n",
       "Qobj data =\n",
       "[[1. 0.]\n",
       " [0. 1.]]"
      ]
     },
     "execution_count": 8,
     "metadata": {},
     "output_type": "execute_result"
    }
   ],
   "source": [
    "b_1 = qt.destroy(2)\n",
    "b_1*b_1.dag() + b_1.dag()*b_1"
   ]
  },
  {
   "cell_type": "code",
   "execution_count": 9,
   "id": "01eac0db",
   "metadata": {},
   "outputs": [
    {
     "data": {
      "text/latex": [
       "Quantum object: dims = [[2], [2]], shape = (2, 2), type = oper, isherm = True $ \\\\ \\left(\\begin{matrix}1.0 & 0.0\\\\0.0 & -1.0\\\\\\end{matrix}\\right)$"
      ],
      "text/plain": [
       "Quantum object: dims = [[2], [2]], shape = (2, 2), type = oper, isherm = True\n",
       "Qobj data =\n",
       "[[ 1.  0.]\n",
       " [ 0. -1.]]"
      ]
     },
     "execution_count": 9,
     "metadata": {},
     "output_type": "execute_result"
    }
   ],
   "source": [
    "b_1*b_1.dag() - b_1.dag()*b_1"
   ]
  },
  {
   "cell_type": "code",
   "execution_count": 10,
   "id": "83a68dbb",
   "metadata": {},
   "outputs": [],
   "source": [
    "N_1 = a_1.dag()*a_1\n",
    "N_2 = a_2.dag()*a_2"
   ]
  },
  {
   "cell_type": "markdown",
   "id": "2f4f0e1d",
   "metadata": {},
   "source": [
    "Let's show that they behave as fermionic operators"
   ]
  },
  {
   "cell_type": "code",
   "execution_count": 8,
   "id": "7ee65e7b",
   "metadata": {},
   "outputs": [
    {
     "data": {
      "text/latex": [
       "Quantum object: dims = [[2, 2], [1, 1]], shape = (4, 1), type = ket $ \\\\ \\left(\\begin{matrix}0.0\\\\0.0\\\\0.0\\\\0.0\\\\\\end{matrix}\\right)$"
      ],
      "text/plain": [
       "Quantum object: dims = [[2, 2], [1, 1]], shape = (4, 1), type = ket\n",
       "Qobj data =\n",
       "[[0.]\n",
       " [0.]\n",
       " [0.]\n",
       " [0.]]"
      ]
     },
     "execution_count": 8,
     "metadata": {},
     "output_type": "execute_result"
    }
   ],
   "source": [
    "a_2.dag()*initial_ket "
   ]
  },
  {
   "cell_type": "code",
   "execution_count": 9,
   "id": "27bda52e",
   "metadata": {},
   "outputs": [
    {
     "data": {
      "text/latex": [
       "Quantum object: dims = [[2, 2], [1, 1]], shape = (4, 1), type = ket $ \\\\ \\left(\\begin{matrix}1.0\\\\0.0\\\\0.0\\\\0.0\\\\\\end{matrix}\\right)$"
      ],
      "text/plain": [
       "Quantum object: dims = [[2, 2], [1, 1]], shape = (4, 1), type = ket\n",
       "Qobj data =\n",
       "[[1.]\n",
       " [0.]\n",
       " [0.]\n",
       " [0.]]"
      ]
     },
     "execution_count": 9,
     "metadata": {},
     "output_type": "execute_result"
    }
   ],
   "source": [
    "a_2*initial_ket"
   ]
  },
  {
   "cell_type": "code",
   "execution_count": 10,
   "id": "cce9e580",
   "metadata": {
    "scrolled": true
   },
   "outputs": [
    {
     "data": {
      "text/latex": [
       "Quantum object: dims = [[2, 2], [1, 1]], shape = (4, 1), type = ket $ \\\\ \\left(\\begin{matrix}0.0\\\\0.0\\\\0.0\\\\1.0\\\\\\end{matrix}\\right)$"
      ],
      "text/plain": [
       "Quantum object: dims = [[2, 2], [1, 1]], shape = (4, 1), type = ket\n",
       "Qobj data =\n",
       "[[0.]\n",
       " [0.]\n",
       " [0.]\n",
       " [1.]]"
      ]
     },
     "execution_count": 10,
     "metadata": {},
     "output_type": "execute_result"
    }
   ],
   "source": [
    "a_1.dag()*initial_ket"
   ]
  },
  {
   "cell_type": "code",
   "execution_count": 11,
   "id": "9d599e59",
   "metadata": {},
   "outputs": [
    {
     "data": {
      "text/latex": [
       "Quantum object: dims = [[2, 2], [1, 1]], shape = (4, 1), type = ket $ \\\\ \\left(\\begin{matrix}0.0\\\\0.0\\\\0.0\\\\0.0\\\\\\end{matrix}\\right)$"
      ],
      "text/plain": [
       "Quantum object: dims = [[2, 2], [1, 1]], shape = (4, 1), type = ket\n",
       "Qobj data =\n",
       "[[0.]\n",
       " [0.]\n",
       " [0.]\n",
       " [0.]]"
      ]
     },
     "execution_count": 11,
     "metadata": {},
     "output_type": "execute_result"
    }
   ],
   "source": [
    "a_1*initial_ket"
   ]
  },
  {
   "cell_type": "markdown",
   "id": "305d9892",
   "metadata": {},
   "source": [
    "### Hamiltonian"
   ]
  },
  {
   "cell_type": "markdown",
   "id": "9061dabd",
   "metadata": {},
   "source": [
    "$$ \\mathcal{H}_{QDD} = \\hbar [\\omega_1 a_1^{\\dagger}a_1 + \\omega_2 a_2^{\\dagger}a_2] + \\Omega(a_1^{\\dagger} a_2 + a_2^{\\dagger}a_1)$$"
   ]
  },
  {
   "cell_type": "code",
   "execution_count": 15,
   "id": "ea004b4b",
   "metadata": {},
   "outputs": [],
   "source": [
    "hbar = 1\n",
    "omega_1 = 0\n",
    "omega_2 = 0\n",
    "Omega = 0.3 #Exchange energy "
   ]
  },
  {
   "cell_type": "code",
   "execution_count": 16,
   "id": "ad015ef3",
   "metadata": {},
   "outputs": [],
   "source": [
    "H = hbar*(omega_1*a_1.dag()*a_1 + omega_2*a_2.dag()*a_2) + hbar*Omega*(a_1.dag()*a_2 + a_2.dag()*a_1)"
   ]
  },
  {
   "cell_type": "code",
   "execution_count": 17,
   "id": "ce1179e5",
   "metadata": {},
   "outputs": [
    {
     "data": {
      "text/latex": [
       "Quantum object: dims = [[2, 2], [2, 2]], shape = (4, 4), type = oper, isherm = True $ \\\\ \\left(\\begin{matrix}0.0 & 0.0 & 0.0 & 0.0\\\\0.0 & 0.0 & 0.300 & 0.0\\\\0.0 & 0.300 & 0.0 & 0.0\\\\0.0 & 0.0 & 0.0 & 0.0\\\\\\end{matrix}\\right)$"
      ],
      "text/plain": [
       "Quantum object: dims = [[2, 2], [2, 2]], shape = (4, 4), type = oper, isherm = True\n",
       "Qobj data =\n",
       "[[0.  0.  0.  0. ]\n",
       " [0.  0.  0.3 0. ]\n",
       " [0.  0.3 0.  0. ]\n",
       " [0.  0.  0.  0. ]]"
      ]
     },
     "execution_count": 17,
     "metadata": {},
     "output_type": "execute_result"
    }
   ],
   "source": [
    "H"
   ]
  },
  {
   "cell_type": "markdown",
   "id": "6d50eec4",
   "metadata": {},
   "source": [
    "### Master Equation"
   ]
  },
  {
   "cell_type": "markdown",
   "id": "e3cc0cf4",
   "metadata": {},
   "source": [
    "The stochastic master equation has the form\n",
    "\n",
    "$$ d \\rho(t) = -\\frac{i}{\\hbar}[\\mathcal{H_{QDD}}dt, \\rho]dt + \\mathcal{D}[A] \\rho(t)dt + \\mathcal{H}[A]\\rho(t)dW_t$$\n",
    "And the superoperators $\\mathcal{D}$ and $\\mathcal{D}$ are defined by\n",
    "$$ \\mathcal{H}[A] \\rho = \\frac{1}{2}[2 A \\rho A^{\\dagger} - \\rho A^{\\dagger} A - A^{\\dagger} A \\rho]$$ \n",
    "$$\n",
    "\\mathcal{H}[A] \\rho = A \\rho + \\rho A^{\\dagger} - Tr[A \\rho + \\rho A^{\\dagger}] $$\n",
    "with \n",
    "$$ A = \\frac{T^*}{|T|}(\\mathcal{T} + \\chi N_1) \\;\\;.$$"
   ]
  },
  {
   "cell_type": "code",
   "execution_count": 20,
   "id": "b44f27fb",
   "metadata": {},
   "outputs": [],
   "source": [
    "T = 10. #Tunneling coefficient\n",
    "chi = 0.1 #Tunneling coefficient variation\n",
    "gamma = abs(chi)/abs(T)\n",
    "dt = 0.1\n",
    "times = np.arange(0, 40, dt)\n",
    "len(times)\n",
    "NUMBER_OF_TRAJECTORIES = 20000"
   ]
  },
  {
   "cell_type": "markdown",
   "id": "feca99c0",
   "metadata": {},
   "source": [
    "Jump operator:"
   ]
  },
  {
   "cell_type": "code",
   "execution_count": 21,
   "id": "64de5dfa",
   "metadata": {},
   "outputs": [],
   "source": [
    "A =(T + chi*a_1.dag()*a_1)"
   ]
  },
  {
   "cell_type": "code",
   "execution_count": 22,
   "id": "c535969f",
   "metadata": {},
   "outputs": [
    {
     "name": "stdout",
     "output_type": "stream",
     "text": [
      "noise order 3.162277660168379\n"
     ]
    }
   ],
   "source": [
    "#noise order\n",
    "print('noise order', 1/np.sqrt(dt))"
   ]
  },
  {
   "cell_type": "code",
   "execution_count": 23,
   "id": "9a6121be",
   "metadata": {},
   "outputs": [],
   "source": [
    "#create the density matrix from the initial ket\n",
    "rho_0 = initial_ket*initial_ket.dag()"
   ]
  },
  {
   "cell_type": "code",
   "execution_count": 24,
   "id": "9814e050",
   "metadata": {},
   "outputs": [
    {
     "data": {
      "text/latex": [
       "Quantum object: dims = [[2, 2], [2, 2]], shape = (4, 4), type = oper, isherm = True $ \\\\ \\left(\\begin{matrix}0.0 & 0.0 & 0.0 & 0.0\\\\0.0 & 1.0 & 0.0 & 0.0\\\\0.0 & 0.0 & 0.0 & 0.0\\\\0.0 & 0.0 & 0.0 & 0.0\\\\\\end{matrix}\\right)$"
      ],
      "text/plain": [
       "Quantum object: dims = [[2, 2], [2, 2]], shape = (4, 4), type = oper, isherm = True\n",
       "Qobj data =\n",
       "[[0. 0. 0. 0.]\n",
       " [0. 1. 0. 0.]\n",
       " [0. 0. 0. 0.]\n",
       " [0. 0. 0. 0.]]"
      ]
     },
     "execution_count": 24,
     "metadata": {},
     "output_type": "execute_result"
    }
   ],
   "source": [
    "rho_0"
   ]
  },
  {
   "cell_type": "markdown",
   "id": "6e99bafa",
   "metadata": {},
   "source": [
    "Current operators"
   ]
  },
  {
   "cell_type": "code",
   "execution_count": 25,
   "id": "4e6f9c52",
   "metadata": {},
   "outputs": [],
   "source": [
    " I = abs(T)*(1 + 2*gamma*np.cos(cmath.phase(T) - cmath.phase(chi))*(a_1.dag()*a_1 - a_2.dag()*a_2))\n",
    "I_1 = abs(chi)*(a_1.dag()*a_1 - a_2.dag()*a_2) "
   ]
  },
  {
   "cell_type": "code",
   "execution_count": 26,
   "id": "bd102bdc",
   "metadata": {},
   "outputs": [
    {
     "data": {
      "text/latex": [
       "Quantum object: dims = [[2, 2], [2, 2]], shape = (4, 4), type = oper, isherm = True $ \\\\ \\left(\\begin{matrix}0.0 & 0.0 & 0.0 & 0.0\\\\0.0 & -0.100 & 0.0 & 0.0\\\\0.0 & 0.0 & 0.100 & 0.0\\\\0.0 & 0.0 & 0.0 & 0.0\\\\\\end{matrix}\\right)$"
      ],
      "text/plain": [
       "Quantum object: dims = [[2, 2], [2, 2]], shape = (4, 4), type = oper, isherm = True\n",
       "Qobj data =\n",
       "[[ 0.   0.   0.   0. ]\n",
       " [ 0.  -0.1  0.   0. ]\n",
       " [ 0.   0.   0.1  0. ]\n",
       " [ 0.   0.   0.   0. ]]"
      ]
     },
     "execution_count": 26,
     "metadata": {},
     "output_type": "execute_result"
    }
   ],
   "source": [
    "I_1"
   ]
  },
  {
   "cell_type": "markdown",
   "id": "402a1b1b",
   "metadata": {},
   "source": [
    "### Simulation"
   ]
  },
  {
   "cell_type": "code",
   "execution_count": 26,
   "id": "fa374c8e",
   "metadata": {
    "scrolled": true
   },
   "outputs": [
    {
     "name": "stdout",
     "output_type": "stream",
     "text": [
      "10.0%. Run time: 719.70s. Est. time left: 00:01:47:57\n",
      "20.0%. Run time: 1439.69s. Est. time left: 00:01:35:58\n",
      "30.0%. Run time: 2154.24s. Est. time left: 00:01:23:46\n",
      "40.0%. Run time: 2886.82s. Est. time left: 00:01:12:10\n",
      "50.0%. Run time: 3616.34s. Est. time left: 00:01:00:16\n",
      "60.0%. Run time: 4331.66s. Est. time left: 00:00:48:07\n",
      "70.0%. Run time: 5047.93s. Est. time left: 00:00:36:03\n",
      "80.0%. Run time: 5767.19s. Est. time left: 00:00:24:01\n",
      "90.0%. Run time: 6489.12s. Est. time left: 00:00:12:01\n",
      "Total run time: 7206.20s\n"
     ]
    }
   ],
   "source": [
    "stoc_solution = qt.smesolve(H, rho_0, times,\n",
    "                            c_ops=[],\n",
    "                            sc_ops=[A],\n",
    "                            ntraj=NUMBER_OF_TRAJECTORIES,\n",
    "                            nsubsteps=100,\n",
    "                            store_measurement=True,\n",
    "                            dW_factors=[1.])"
   ]
  },
  {
   "cell_type": "markdown",
   "id": "28f0147f",
   "metadata": {},
   "source": [
    "### Unconditional solution"
   ]
  },
  {
   "cell_type": "code",
   "execution_count": 27,
   "id": "9b62e212",
   "metadata": {},
   "outputs": [
    {
     "name": "stderr",
     "output_type": "stream",
     "text": [
      "C:\\Users\\delca\\anaconda3\\Lib\\site-packages\\matplotlib\\cbook\\__init__.py:1335: ComplexWarning: Casting complex values to real discards the imaginary part\n",
      "  return np.asarray(x, float)\n"
     ]
    },
    {
     "data": {
      "text/plain": [
       "[<matplotlib.lines.Line2D at 0x1ab94c725d0>]"
      ]
     },
     "execution_count": 27,
     "metadata": {},
     "output_type": "execute_result"
    },
    {
     "data": {
      "image/png": "[encoded data removed]",
      "text/plain": [
       "<Figure size 640x480 with 1 Axes>"
      ]
     },
     "metadata": {},
     "output_type": "display_data"
    }
   ],
   "source": [
    "fig, ax = plt.subplots()\n",
    "ax.set_title(f'Feedback ME unconditional solution for {NUMBER_OF_TRAJECTORIES} trajectories')\n",
    "ax.plot(times, np.array(stoc_solution.measurement).mean(axis=0)[:],\n",
    "        'r', label=r'$J_x$')\n",
    "#ax.set_xlim(0,10)"
   ]
  },
  {
   "cell_type": "markdown",
   "id": "039bdca8",
   "metadata": {},
   "source": [
    "### Example of conditional solution"
   ]
  },
  {
   "cell_type": "code",
   "execution_count": 28,
   "id": "99d85b1a",
   "metadata": {},
   "outputs": [
    {
     "data": {
      "text/plain": [
       "[<matplotlib.lines.Line2D at 0x1ab94c63a10>]"
      ]
     },
     "execution_count": 28,
     "metadata": {},
     "output_type": "execute_result"
    },
    {
     "data": {
      "image/png": "[encoded data removed]",
      "text/plain": [
       "<Figure size 640x480 with 1 Axes>"
      ]
     },
     "metadata": {},
     "output_type": "display_data"
    }
   ],
   "source": [
    "fig, ax = plt.subplots()\n",
    "ax.set_title('Feedback stochastic Master Equation - double dot, single trajectory')\n",
    "ax.plot(times,stoc_solution.measurement[12],\n",
    "        'r', lw=2, label=r'$J_x$')"
   ]
  },
  {
   "cell_type": "markdown",
   "id": "d572dcfe",
   "metadata": {},
   "source": [
    "### Save"
   ]
  },
  {
   "cell_type": "code",
   "execution_count": 41,
   "id": "1b974c8d",
   "metadata": {},
   "outputs": [],
   "source": [
    "Ens = reshape_measurement(NUMBER_OF_TRAJECTORIES, len(times), stoc_solution.measurement)"
   ]
  },
  {
   "cell_type": "code",
   "execution_count": 42,
   "id": "010ca38e",
   "metadata": {},
   "outputs": [],
   "source": [
    "np.savetxt('Trajectories3/traj_2000_1.txt', Ens)"
   ]
  },
  {
   "cell_type": "code",
   "execution_count": null,
   "id": "0237c74f",
   "metadata": {},
   "outputs": [],
   "source": []
  }
 ],
 "metadata": {
  "kernelspec": {
   "display_name": "Python 3 (ipykernel)",
   "language": "python",
   "name": "python3"
  },
  "language_info": {
   "codemirror_mode": {
    "name": "ipython",
    "version": 3
   },
   "file_extension": ".py",
   "mimetype": "text/x-python",
   "name": "python",
   "nbconvert_exporter": "python",
   "pygments_lexer": "ipython3",
   "version": "3.11.4"
  }
 },
 "nbformat": 4,
 "nbformat_minor": 5
}
