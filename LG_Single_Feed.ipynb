{
 "cells": [
  {
   "cell_type": "markdown",
   "id": "b5f045b3",
   "metadata": {},
   "source": [
    "# Leggett-Garg factor for a single Trajectory"
   ]
  },
  {
   "cell_type": "code",
   "execution_count": 1,
   "id": "b62ed69d",
   "metadata": {},
   "outputs": [],
   "source": [
    "import numpy as np\n",
    "import matplotlib.pyplot as plt\n",
    "import qutip as qt\n",
    "import cmath\n",
    "import os\n",
    "import statsmodels.api as sm\n",
    "import scipy as sp\n",
    "%run Functions.ipynb"
   ]
  },
  {
   "cell_type": "code",
   "execution_count": 2,
   "id": "3f16c45c",
   "metadata": {},
   "outputs": [],
   "source": [
    "directory = 'SingleFeed'\n",
    "\n",
    "arrays = []\n",
    "\n",
    "for filename in os.listdir(directory):\n",
    "    if filename.endswith('.txt'):  \n",
    "        filepath = os.path.join(directory, filename)\n",
    "        data = np.loadtxt(filepath, dtype=complex)\n",
    "        arrays.append(data.real)"
   ]
  },
  {
   "cell_type": "code",
   "execution_count": 3,
   "id": "c55d3e89",
   "metadata": {},
   "outputs": [],
   "source": [
    "dt = 0.1\n",
    "times = np.arange(0, 1000000, dt)\n",
    "SingleTraj = np.concatenate(arrays, axis=0)"
   ]
  },
  {
   "cell_type": "code",
   "execution_count": null,
   "id": "c1e265c6",
   "metadata": {},
   "outputs": [],
   "source": [
    "result = leggett_garg_factor_lessteps(np.array(SingleTraj))"
   ]
  },
  {
   "cell_type": "code",
   "execution_count": null,
   "id": "5a41400e",
   "metadata": {},
   "outputs": [],
   "source": [
    "plot_legg_feed(times[:len(result[0])], result[0], 0.1)"
   ]
  },
  {
   "cell_type": "code",
   "execution_count": null,
   "id": "19df237d",
   "metadata": {},
   "outputs": [],
   "source": []
  },
  {
   "cell_type": "code",
   "execution_count": null,
   "id": "b629380d",
   "metadata": {},
   "outputs": [],
   "source": []
  }
 ],
 "metadata": {
  "kernelspec": {
   "display_name": "Python 3 (ipykernel)",
   "language": "python",
   "name": "python3"
  },
  "language_info": {
   "codemirror_mode": {
    "name": "ipython",
    "version": 3
   },
   "file_extension": ".py",
   "mimetype": "text/x-python",
   "name": "python",
   "nbconvert_exporter": "python",
   "pygments_lexer": "ipython3",
   "version": "3.11.4"
  }
 },
 "nbformat": 4,
 "nbformat_minor": 5
}
